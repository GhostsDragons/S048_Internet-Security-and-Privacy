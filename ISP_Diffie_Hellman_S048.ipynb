{
  "nbformat": 4,
  "nbformat_minor": 0,
  "metadata": {
    "colab": {
      "provenance": [],
      "collapsed_sections": [],
      "include_colab_link": true
    },
    "kernelspec": {
      "name": "python3",
      "display_name": "Python 3"
    },
    "language_info": {
      "name": "python"
    }
  },
  "cells": [
    {
      "cell_type": "markdown",
      "metadata": {
        "id": "view-in-github",
        "colab_type": "text"
      },
      "source": [
        "<a href=\"https://colab.research.google.com/github/GhostsDragons/S048_Internet-Security-and-Privacy/blob/main/ISP_Diffie_Hellman_S048.ipynb\" target=\"_parent\"><img src=\"https://colab.research.google.com/assets/colab-badge.svg\" alt=\"Open In Colab\"/></a>"
      ]
    },
    {
      "cell_type": "code",
      "execution_count": 9,
      "metadata": {
        "colab": {
          "base_uri": "https://localhost:8080/"
        },
        "id": "sUVdivVCz3Nv",
        "outputId": "90445a63-1fbb-4503-cc77-b058ec2d8beb"
      },
      "outputs": [
        {
          "name": "stdout",
          "output_type": "stream",
          "text": [
            "both parties agree to a single prime number\n",
            "enter the prime number to be considered: 19\n",
            "both must agree with single primitive root to use \n",
            "Enter the primitve root: 5\n"
          ]
        }
      ],
      "source": [
        "print(\"both parties agree to a single prime number\")\n",
        "prime=int((input(\"enter the prime number to be considered: \")))\n",
        "#Primitive root to be use us\n",
        "print('both must agree with single primitive root to use ')\n",
        "root=int(input('Enter the primitve root: '))"
      ]
    },
    {
      "cell_type": "markdown",
      "source": [
        "Diffie hellman "
      ],
      "metadata": {
        "id": "DXjMYKA22wec"
      }
    },
    {
      "cell_type": "code",
      "source": [
        "#party1 chooses a secret number\n",
        "alicesecret=int(input(\"Enter a secret number for Party1: \"))\n",
        "#party2 chooses a secret number(bs)\n",
        "bobsecret=int(input(\"Enter a secret number for party2: \"))\n",
        "print(\"\\n\")\n"
      ],
      "metadata": {
        "colab": {
          "base_uri": "https://localhost:8080/"
        },
        "id": "grO1ebXw55Cr",
        "outputId": "5449e0d6-aea0-4e21-9bc5-9ff2d4bc5dac"
      },
      "execution_count": 10,
      "outputs": [
        {
          "output_type": "stream",
          "name": "stdout",
          "text": [
            "Enter a secret number for Party1: 12\n",
            "Enter a secret number for party2: 46\n",
            "\n",
            "\n"
          ]
        }
      ]
    },
    {
      "cell_type": "code",
      "source": [
        "print(\"Partys public key ->A = root^allicesecre*mod(prime)\")\n",
        "alicepublic=(root**alicesecret)%prime\n",
        "print('Party1 public key is:',alicepublic,\"\\n\")\n",
        "#party2 public key B=(root^bobsecret)*mod(prime)\n",
        "print('party2 public key B=(root^bobsecret)*mod(prime))')\n",
        "bobpublic=(root**bobsecret)%prime\n",
        "print('Party2 public key is:',bobpublic,\"\\n\")\n"
      ],
      "metadata": {
        "colab": {
          "base_uri": "https://localhost:8080/"
        },
        "id": "Wd9z6qLk6hck",
        "outputId": "75c0a0cb-5d22-4d79-a818-75c57229f1c6"
      },
      "execution_count": 11,
      "outputs": [
        {
          "output_type": "stream",
          "name": "stdout",
          "text": [
            "Partys public key ->A = root^allicesecre*mod(prime)\n",
            "Party1 public key is: 11 \n",
            "\n",
            "party2 public key B=(root^bobsecret)*mod(prime))\n",
            "Party2 public key is: 5 \n",
            "\n"
          ]
        }
      ]
    },
    {
      "cell_type": "code",
      "source": [
        "print(\"party1 calculates the share key as K=B^alicesecret*mod(prime)\")\n",
        "alicekey=(bobpublic**alicesecret)%prime\n",
        "print(\"party1 calculates the shared and results: \",alicekey,\"\\n\")"
      ],
      "metadata": {
        "colab": {
          "base_uri": "https://localhost:8080/"
        },
        "id": "ePM1B67D8E5Y",
        "outputId": "20d0d494-2b55-42b2-b761-cccf83380337"
      },
      "execution_count": 12,
      "outputs": [
        {
          "output_type": "stream",
          "name": "stdout",
          "text": [
            "party1 calculates the share key as K=B^alicesecret*mod(prime)\n",
            "party1 calculates the shared and results:  11 \n",
            "\n"
          ]
        }
      ]
    },
    {
      "cell_type": "code",
      "source": [
        "print(\"party2 calculates the share key as K=B^alicesecret*mod(prime)\")\n",
        "bobkey=(alicepublic**bobsecret)%prime\n",
        "print(\"party2 calculates the shared and results: \",bobkey,\"\\n\")"
      ],
      "metadata": {
        "colab": {
          "base_uri": "https://localhost:8080/"
        },
        "id": "izFiyPfH8r_b",
        "outputId": "82c24790-2523-46df-b40a-6ea211b0d46b"
      },
      "execution_count": 13,
      "outputs": [
        {
          "output_type": "stream",
          "name": "stdout",
          "text": [
            "party2 calculates the share key as K=B^alicesecret*mod(prime)\n",
            "party2 calculates the shared and results:  11 \n",
            "\n"
          ]
        }
      ]
    },
    {
      "cell_type": "code",
      "source": [
        "if bobkey == alicekey:\n",
        "  print('KEYS MATCH')"
      ],
      "metadata": {
        "id": "3oJV7K_v86OC",
        "colab": {
          "base_uri": "https://localhost:8080/"
        },
        "outputId": "b25b8c51-e199-4a4f-ca4a-aabf3ac840d9"
      },
      "execution_count": 14,
      "outputs": [
        {
          "output_type": "stream",
          "name": "stdout",
          "text": [
            "KEYS MATCH\n"
          ]
        }
      ]
    },
    {
      "cell_type": "code",
      "source": [],
      "metadata": {
        "id": "ND3zwNxZ1udd"
      },
      "execution_count": 14,
      "outputs": []
    }
  ]
}
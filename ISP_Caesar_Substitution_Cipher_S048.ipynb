{
  "nbformat": 4,
  "nbformat_minor": 0,
  "metadata": {
    "colab": {
      "provenance": [],
      "include_colab_link": true
    },
    "kernelspec": {
      "name": "python3",
      "display_name": "Python 3"
    },
    "language_info": {
      "name": "python"
    }
  },
  "cells": [
    {
      "cell_type": "markdown",
      "metadata": {
        "id": "view-in-github",
        "colab_type": "text"
      },
      "source": [
        "<a href=\"https://colab.research.google.com/github/GhostsDragons/S048_Internet-Security-and-Privacy/blob/main/ISP_Caesar_Substitution_Cipher_S048.ipynb\" target=\"_parent\"><img src=\"https://colab.research.google.com/assets/colab-badge.svg\" alt=\"Open In Colab\"/></a>"
      ]
    },
    {
      "cell_type": "markdown",
      "source": [
        "**Algorithm for substitution Cipher:**\n",
        "\n",
        "**Input:** \n",
        "\n",
        "1. A String of lower case letters, called Text.\n",
        "2. An Integer between 0-25 denoting the required shift.\n",
        "\n",
        "**Procedure:**\n",
        "\n",
        "1. Traverse the given text one character at a time .\n",
        "2. For each character, transform the given character as per the rule, depending on whether we’re encrypting or decrypting the text.\n",
        "Return the new string generated."
      ],
      "metadata": {
        "id": "CzVL7K4odyxz"
      }
    },
    {
      "cell_type": "code",
      "source": [
        "#STEP 1: Take Inputs\n",
        "text=str(input(\"enter the word:\"))\n",
        "shift=int(input(\"Enter the key: \"))\n",
        "result=''"
      ],
      "metadata": {
        "colab": {
          "base_uri": "https://localhost:8080/"
        },
        "id": "Cm2O8avXll5E",
        "outputId": "4b983c4d-66b6-4924-b0aa-c7a482861a72"
      },
      "execution_count": null,
      "outputs": [
        {
          "name": "stdout",
          "output_type": "stream",
          "text": [
            "enter the word:abc\n",
            "Enter the key: 3\n"
          ]
        }
      ]
    },
    {
      "cell_type": "code",
      "source": [
        "#STEP 2:  Traverse\n",
        "for i in range(len(text)):\n",
        "  char = text[i]\n",
        "  print(char)"
      ],
      "metadata": {
        "colab": {
          "base_uri": "https://localhost:8080/"
        },
        "id": "ZsacQjV1lti9",
        "outputId": "252f703e-59da-4b44-9961-e074b6282515"
      },
      "execution_count": null,
      "outputs": [
        {
          "output_type": "stream",
          "name": "stdout",
          "text": [
            "a\n",
            "b\n",
            "c\n"
          ]
        }
      ]
    },
    {
      "cell_type": "code",
      "source": [
        "#STEP 3 FOR all upper case shift as per input\n",
        "text = \"MAYUR\"\n",
        "shift = 3\n",
        "result=''\n",
        "\n",
        "for i in range(len(text)):\n",
        "  char = text[i]\n",
        "  print(\"Orignal char\",char)\n",
        "  result = result + chr((ord(char) + shift-65) % 26 + 65)\n",
        "  print(\"Corresponding cipher\",result[i])\n",
        "  print(\"-------------------------\")\n",
        "print(\"Final Result\",result)"
      ],
      "metadata": {
        "colab": {
          "base_uri": "https://localhost:8080/"
        },
        "id": "hnAT30gplz0q",
        "outputId": "2064a974-d93d-4c4b-9246-788a1341e787"
      },
      "execution_count": null,
      "outputs": [
        {
          "output_type": "stream",
          "name": "stdout",
          "text": [
            "Orignal char M\n",
            "Corresponding cipher P\n",
            "-------------------------\n",
            "Orignal char A\n",
            "Corresponding cipher D\n",
            "-------------------------\n",
            "Orignal char Y\n",
            "Corresponding cipher B\n",
            "-------------------------\n",
            "Orignal char U\n",
            "Corresponding cipher X\n",
            "-------------------------\n",
            "Orignal char R\n",
            "Corresponding cipher U\n",
            "-------------------------\n",
            "Final Result PDBXU\n"
          ]
        }
      ]
    },
    {
      "cell_type": "code",
      "source": [
        "# inbuilt function return an integer representing the Unicode code\n",
        "value = (ord(\"b\"))\n",
        "\n",
        "# prints the unicode value\n",
        "print (value)\n",
        "\n",
        "# print the character\n",
        "print(chr(value))\n",
        "\n",
        "#A-Z : 65 to 90\n",
        "#a-z : 97 to 122"
      ],
      "metadata": {
        "colab": {
          "base_uri": "https://localhost:8080/"
        },
        "id": "Br8bkwBlm8C4",
        "outputId": "756fd5f1-8107-4168-8d70-0819049613f0"
      },
      "execution_count": null,
      "outputs": [
        {
          "output_type": "stream",
          "name": "stdout",
          "text": [
            "98\n",
            "b\n"
          ]
        }
      ]
    },
    {
      "cell_type": "code",
      "source": [
        "value1 = (ord(\"X\"))\n",
        "print(\"Unicode code value of given char is \",value1)\n",
        "\n",
        "print(\"---------------------------------------\")\n",
        "\n",
        "value2 = (ord(\"X\")+3)\n",
        "print(\"Unicode with shift of 3 \",value2)\n",
        "\n",
        "print(\"---------------------------------------\")\n",
        "\n",
        "value2_1 = (ord(\"X\")+3)\n",
        "print(\"Char with shift of 3 \",chr(value2_1))\n",
        "\n",
        "print(\"---------------------------------------\")\n",
        "\n",
        "value3 = (ord(\"X\")+3-65)\n",
        "print(\"Convert to base of capital letter \",value3)\n",
        "\n",
        "print(\"---------------------------------------\")\n",
        "\n",
        "value4 = (ord(\"X\")+3-65)%26\n",
        "print(\"Taking Mod with 26 \",value4)\n",
        "\n",
        "print(\"---------------------------------------\")\n",
        "\n",
        "\n",
        "value5 = (ord(\"X\")+3-65)%26+65\n",
        "print(\"Unicode code value of cipher char is \",value5)\n",
        "\n",
        "\n",
        "print(\"---------------------------------------\")\n",
        "chr(value5)\n",
        "\n",
        "\n",
        "#breaking\n",
        "#(ord(\"A\")+3-65) makes base 0\n",
        "#"
      ],
      "metadata": {
        "colab": {
          "base_uri": "https://localhost:8080/",
          "height": 244
        },
        "id": "_tm1vRbwd947",
        "outputId": "e1860d2d-223c-46a1-edd4-af5457eeb09a"
      },
      "execution_count": null,
      "outputs": [
        {
          "output_type": "stream",
          "name": "stdout",
          "text": [
            "Unicode code value of given char is  88\n",
            "---------------------------------------\n",
            "Unicode with shift of 3  91\n",
            "---------------------------------------\n",
            "Char with shift of 3  [\n",
            "---------------------------------------\n",
            "Convert to base of capital letter  26\n",
            "---------------------------------------\n",
            "Taking Mod with 26  0\n",
            "---------------------------------------\n",
            "Unicode code value of cipher char is  65\n",
            "---------------------------------------\n"
          ]
        },
        {
          "output_type": "execute_result",
          "data": {
            "text/plain": [
              "'A'"
            ],
            "application/vnd.google.colaboratory.intrinsic+json": {
              "type": "string"
            }
          },
          "metadata": {},
          "execution_count": 5
        }
      ]
    },
    {
      "cell_type": "code",
      "source": [
        "#STEP 5 FOR all lower case shift as per input\n",
        "text = \"abc\"\n",
        "shift = 4\n",
        "result=''\n",
        "for i in range(len(text)):\n",
        "  char = text[i]\n",
        "  result = result + chr((ord(char) + shift-97) % 26 + 97)\n",
        "print(result)"
      ],
      "metadata": {
        "colab": {
          "base_uri": "https://localhost:8080/"
        },
        "id": "iDoBAZ4uoMIU",
        "outputId": "e840fa05-c58e-4069-ed0c-fc4d8d53e387"
      },
      "execution_count": null,
      "outputs": [
        {
          "output_type": "stream",
          "name": "stdout",
          "text": [
            "efg\n"
          ]
        }
      ]
    },
    {
      "cell_type": "code",
      "source": [
        "#INPUTS\n",
        "text = \"ABC\"\n",
        "shift = 3\n",
        "\n",
        "result=''\n",
        "# traverse text\n",
        "for i in range(len(text)):\n",
        "  char = text[i]\n",
        "\n",
        "  # Encrypt uppercase characters\n",
        "  if (char.isupper()):\n",
        "    result += chr((ord(char) + shift-65) % 26 + 65)\n",
        "    \n",
        "  # Encrypt lowercase characters\n",
        "  else:\n",
        "    result += chr((ord(char) + shift - 97) % 26 + 97)\n",
        "    \n",
        "\n",
        "print (\"Text : \" + text)\n",
        "print (\"Shift : \" + str(shift))\n",
        "print(\"Cipher : \", result)\n"
      ],
      "metadata": {
        "colab": {
          "base_uri": "https://localhost:8080/"
        },
        "id": "sVhM6PH8eOpt",
        "outputId": "32321fd4-7c00-4749-9e8c-5744f019eb59"
      },
      "execution_count": null,
      "outputs": [
        {
          "output_type": "stream",
          "name": "stdout",
          "text": [
            "Text : ABC\n",
            "Shift : 3\n",
            "Cipher :  DEF\n"
          ]
        }
      ]
    },
    {
      "cell_type": "markdown",
      "source": [
        "# Final ENCRYPTED CAESAR TECHNIQUE"
      ],
      "metadata": {
        "id": "FnGZKaw6pTLX"
      }
    },
    {
      "cell_type": "code",
      "source": [
        "#A python program to illustrate Caesar Cipher Technique\n",
        "def encrypt(text,s):\n",
        "  result = \"\"\n",
        "  # traverse text\n",
        "  s=s\n",
        "  print(s)\n",
        "  for i in range(len(text)):\n",
        "    char = text[i]\n",
        "\n",
        "    # Encrypt uppercase characters\n",
        "    if (char.isupper()):\n",
        "      result += chr((ord(char) + s-65) % 26 + 65)\n",
        "\n",
        "    # Encrypt lowercase characters\n",
        "    else:\n",
        "      result += chr((ord(char) + s - 97) % 26 + 97)\n",
        "    \n",
        "  return result\n",
        "\n",
        "#check the above function\n",
        "text=str(input(\"enter the word:\"))\n",
        "shift=int(input(\"Enter the key: \"))\n",
        "# print (\"Text : \" + text)\n",
        "# print (\"Shift : \" + str(s))\n",
        "print (\"Cipher: \" + encrypt(text,shift))"
      ],
      "metadata": {
        "colab": {
          "base_uri": "https://localhost:8080/"
        },
        "id": "kAyZ74FEdelQ",
        "outputId": "51c28044-67cd-400a-f133-f55976fbb9b0"
      },
      "execution_count": null,
      "outputs": [
        {
          "output_type": "stream",
          "name": "stdout",
          "text": [
            "enter the word:Internet Security\n",
            "Enter the key: 3\n",
            "3\n",
            "Cipher: LqwhuqhwqVhfxulwb\n"
          ]
        }
      ]
    },
    {
      "cell_type": "markdown",
      "source": [
        "# DECRYPTION"
      ],
      "metadata": {
        "id": "jXiZSNbRaxWk"
      }
    },
    {
      "cell_type": "code",
      "source": [
        "def decrypt(text,s):\n",
        "\n",
        " \n",
        "  result=\"\" \n",
        "  for i in range(len(text)):\n",
        "      char=text[i]\n",
        "      if(char.isupper()):  \n",
        "          result=result+chr((ord(char)-s-65)%26+65)\n",
        "      else:\n",
        "          result=result+chr((ord(char)-s-97)%26+97)\n",
        "  return result\n",
        "\n",
        "\n",
        "word=str(input(\"enter the word:\"))\n",
        "d=int(input(\"Enter the key: \"))\n",
        "\n",
        "print(\"Encoded word in Caeser cipher is: \",decrypt(word,d))\n"
      ],
      "metadata": {
        "colab": {
          "base_uri": "https://localhost:8080/"
        },
        "id": "HyUYjiiWpa0W",
        "outputId": "348afc9b-78ee-45de-da38-76b55e59f7cc"
      },
      "execution_count": null,
      "outputs": [
        {
          "output_type": "stream",
          "name": "stdout",
          "text": [
            "enter the word:LqwhuqhwqVhfxulwb\n",
            "Enter the key: 3\n",
            "Encoded word in Caeser cipher is:  InternetnSecurity\n"
          ]
        }
      ]
    },
    {
      "cell_type": "code",
      "source": [],
      "metadata": {
        "id": "3kUCLQ1bv4WF"
      },
      "execution_count": null,
      "outputs": []
    }
  ]
}
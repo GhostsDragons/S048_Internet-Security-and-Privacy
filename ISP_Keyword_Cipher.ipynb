{
  "cells": [
    {
      "cell_type": "markdown",
      "metadata": {
        "id": "view-in-github",
        "colab_type": "text"
      },
      "source": [
        "<a href=\"https://colab.research.google.com/github/GhostsDragons/S048_Internet-Security-and-Privacy/blob/main/ISP_Keyword_Cipher.ipynb\" target=\"_parent\"><img src=\"https://colab.research.google.com/assets/colab-badge.svg\" alt=\"Open In Colab\"/></a>"
      ]
    },
    {
      "cell_type": "markdown",
      "source": [
        "#Keyword Cipher"
      ],
      "metadata": {
        "id": "ZIs0ZC_d-GF3"
      }
    },
    {
      "cell_type": "code",
      "execution_count": 1,
      "metadata": {
        "colab": {
          "base_uri": "https://localhost:8080/"
        },
        "id": "hTTUmYNGrwzL",
        "outputId": "7112aeac-c96f-4e8e-9482-3b67d4e565a7"
      },
      "outputs": [
        {
          "name": "stdout",
          "output_type": "stream",
          "text": [
            "Enter The Plain Message : Hari Goyal\n",
            "Enter the keyword : GhostDragon\n"
          ]
        }
      ],
      "source": [
        "message = input(\"Enter The Plain Message : \")\n",
        "keyword = input(\"Enter the keyword : \")\n",
        "ciphertext = \"\""
      ]
    },
    {
      "cell_type": "code",
      "execution_count": 2,
      "metadata": {
        "colab": {
          "base_uri": "https://localhost:8080/"
        },
        "id": "DXsMi1zwrnjx",
        "outputId": "ed978ef9-dfae-4e11-db42-9251e2b64c35"
      },
      "outputs": [
        {
          "output_type": "stream",
          "name": "stdout",
          "text": [
            "['A', 'B', 'C', 'D', 'E', 'F', 'G', 'H', 'I', 'J', 'K', 'L', 'M', 'N', 'O', 'P', 'Q', 'R', 'S', 'T', 'U', 'V', 'W', 'X', 'Y', 'Z']\n"
          ]
        }
      ],
      "source": [
        "all_alphabets = []\n",
        "for i in range (65, 91):\n",
        "  all_alphabets.append(chr(i))\n",
        "print(all_alphabets)"
      ]
    },
    {
      "cell_type": "code",
      "execution_count": 3,
      "metadata": {
        "colab": {
          "base_uri": "https://localhost:8080/"
        },
        "id": "UW7RvW1LsiD9",
        "outputId": "603ed750-ebf0-4d40-a03c-dff2e9217126"
      },
      "outputs": [
        {
          "output_type": "stream",
          "name": "stdout",
          "text": [
            "['H', 'A', 'R', 'I', ' ', 'G', 'O', 'Y', 'A', 'L']\n"
          ]
        }
      ],
      "source": [
        "msg = []\n",
        "for i in message:\n",
        "  msg.append(i.upper())\n",
        "print(msg)"
      ]
    },
    {
      "cell_type": "code",
      "execution_count": 4,
      "metadata": {
        "id": "5SOkTZYTtY0_"
      },
      "outputs": [],
      "source": [
        "keyword1 = keyword.upper()"
      ]
    },
    {
      "cell_type": "code",
      "execution_count": 5,
      "metadata": {
        "id": "0E8q0wZPtk7z"
      },
      "outputs": [],
      "source": [
        "def duplicates(list):\n",
        "  key = []\n",
        "  for i in list:\n",
        "    if i not in key:\n",
        "      key.append(i)\n",
        "  return key"
      ]
    },
    {
      "cell_type": "code",
      "execution_count": 6,
      "metadata": {
        "colab": {
          "base_uri": "https://localhost:8080/"
        },
        "id": "coFyMiMevI3B",
        "outputId": "1506ba3b-6e0c-4419-f4dd-aacb24fe6bbf"
      },
      "outputs": [
        {
          "output_type": "stream",
          "name": "stdout",
          "text": [
            "keyword after removing duplicates :  ['G', 'H', 'O', 'S', 'T', 'D', 'R', 'A', 'N']\n",
            "encrypting text is :  ['G', 'H', 'O', 'S', 'T', 'D', 'R', 'A', 'N', 'B', 'C', 'E', 'F', 'I', 'J', 'K', 'L', 'M', 'P', 'Q', 'U', 'V', 'W', 'X', 'Y', 'Z']\n"
          ]
        }
      ],
      "source": [
        "keyword1 = duplicates(keyword1)\n",
        "print(\"keyword after removing duplicates : \", keyword1)\n",
        "encrypting = duplicates(keyword1 + all_alphabets)\n",
        "for i in encrypting:\n",
        "  if( i==' '):\n",
        "    encrypting.remove(' ')\n",
        "print(\"encrypting text is : \", encrypting)"
      ]
    },
    {
      "cell_type": "code",
      "execution_count": 7,
      "metadata": {
        "id": "yzHekEM3xuCG"
      },
      "outputs": [],
      "source": [
        "for i in range(len(msg)):\n",
        "  if(msg[i] != ' '):\n",
        "    ciphertext = ciphertext + encrypting[all_alphabets.index(msg[i])]\n",
        "  else:\n",
        "    ciphertext = ciphertext + ' '\n"
      ]
    },
    {
      "cell_type": "code",
      "execution_count": 8,
      "metadata": {
        "colab": {
          "base_uri": "https://localhost:8080/"
        },
        "id": "uxbwkVKhyw4O",
        "outputId": "ec60885b-b761-433c-9907-d5747a000d47"
      },
      "outputs": [
        {
          "output_type": "stream",
          "name": "stdout",
          "text": [
            "KEYWORD :::  GhostDragon\n",
            "MESSAGE BEFORE CIPHERING :::  Hari Goyal\n",
            "CIPHERED TEXT ::: AGMN RJYGE\n"
          ]
        }
      ],
      "source": [
        "print(\"KEYWORD ::: \", keyword)\n",
        "print(\"MESSAGE BEFORE CIPHERING ::: \", message)\n",
        "print(\"CIPHERED TEXT :::\", ciphertext)\n"
      ]
    }
  ],
  "metadata": {
    "colab": {
      "collapsed_sections": [],
      "provenance": [],
      "include_colab_link": true
    },
    "kernelspec": {
      "display_name": "Python 3",
      "name": "python3"
    },
    "language_info": {
      "name": "python"
    }
  },
  "nbformat": 4,
  "nbformat_minor": 0
}
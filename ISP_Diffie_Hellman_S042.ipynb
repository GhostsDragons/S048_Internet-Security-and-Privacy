{
  "nbformat": 4,
  "nbformat_minor": 0,
  "metadata": {
    "colab": {
      "provenance": []
    },
    "kernelspec": {
      "name": "python3",
      "display_name": "Python 3"
    },
    "language_info": {
      "name": "python"
    }
  },
  "cells": [
    {
      "cell_type": "markdown",
      "source": [
        "#DIFFIE - HELLMAN Key Exchange"
      ],
      "metadata": {
        "id": "k_CsLQ4vxdfW"
      }
    },
    {
      "cell_type": "code",
      "execution_count": null,
      "metadata": {
        "colab": {
          "base_uri": "https://localhost:8080/"
        },
        "id": "6f6JkKJOxU_y",
        "outputId": "d96e3e2f-6568-4c92-9a72-f23804509f14"
      },
      "outputs": [
        {
          "name": "stdout",
          "output_type": "stream",
          "text": [
            "Both Parties Agree To A Single Prime No.\n",
            " Enter A Prime No To Be Considered : 31\n",
            "Both Must Agree With A Single Primitive Root To Use\n",
            " Enter The Primitive Root : 11\n"
          ]
        }
      ],
      "source": [
        "print(\"Both Parties Agree To A Single Prime No.\")\n",
        "prime = int(input(\" Enter A Prime No To Be Considered : \"))\n",
        "print(\"Both Must Agree With A Single Primitive Root To Use\")\n",
        "root = int(input(\" Enter The Primitive Root : \"))"
      ]
    },
    {
      "cell_type": "code",
      "source": [
        "alicesecret = int(input(\"Enter A Secret No From User 1 : \"))\n",
        "bobsecret = int(input(\"Enter A Secret no From User 2 : \"))\n",
        "print('\\n')"
      ],
      "metadata": {
        "colab": {
          "base_uri": "https://localhost:8080/"
        },
        "id": "3ZFFT_PY4Z5A",
        "outputId": "270bd02b-95d2-4d59-9c08-82d24bc7a400"
      },
      "execution_count": null,
      "outputs": [
        {
          "output_type": "stream",
          "name": "stdout",
          "text": [
            "Enter A Secret No From User 1 : 98\n",
            "Enter A Secret no From User 2 : 60\n",
            "\n",
            "\n"
          ]
        }
      ]
    },
    {
      "cell_type": "code",
      "source": [
        "print(\"Party1's Public Key -> A = root^alicesecre*mod(prime))\")\n",
        "alicepublic = (root**alicesecret)%prime\n",
        "print(\"Party1's Public Key Is : \", alicepublic, \"\\n\")\n",
        "\n",
        "print(\"Party2's Public Key -> A = root^bobsecre*mod(prime))\")\n",
        "bobpublic = (root**bobsecret)%prime\n",
        "print(\"Party2's Public Key Is : \", bobpublic, \"\\n\")"
      ],
      "metadata": {
        "colab": {
          "base_uri": "https://localhost:8080/"
        },
        "id": "r2EPU4_M6K8K",
        "outputId": "31ab1e8f-7a04-40a0-f76e-92959336b32e"
      },
      "execution_count": null,
      "outputs": [
        {
          "output_type": "stream",
          "name": "stdout",
          "text": [
            "Party1's Public Key -> A = root^alicesecre*mod(prime))\n",
            "Party1's Public Key Is :  19 \n",
            "\n",
            "Party2's Public Key -> A = root^bobsecre*mod(prime))\n",
            "Party2's Public Key Is :  1 \n",
            "\n"
          ]
        }
      ]
    },
    {
      "cell_type": "code",
      "source": [],
      "metadata": {
        "id": "D5hciX3H7klc"
      },
      "execution_count": null,
      "outputs": []
    }
  ]
}
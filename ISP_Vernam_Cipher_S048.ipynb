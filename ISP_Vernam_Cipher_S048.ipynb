{
  "nbformat": 4,
  "nbformat_minor": 0,
  "metadata": {
    "colab": {
      "provenance": [],
      "include_colab_link": true
    },
    "kernelspec": {
      "name": "python3",
      "display_name": "Python 3"
    },
    "language_info": {
      "name": "python"
    }
  },
  "cells": [
    {
      "cell_type": "markdown",
      "metadata": {
        "id": "view-in-github",
        "colab_type": "text"
      },
      "source": [
        "<a href=\"https://colab.research.google.com/github/GhostsDragons/S048_Internet-Security-and-Privacy/blob/main/ISP_Vernam_Cipher_S048.ipynb\" target=\"_parent\"><img src=\"https://colab.research.google.com/assets/colab-badge.svg\" alt=\"Open In Colab\"/></a>"
      ]
    },
    {
      "cell_type": "markdown",
      "source": [
        "##ISP - Vernam Cipher"
      ],
      "metadata": {
        "id": "ncs5ZQaz_Vqw"
      }
    },
    {
      "cell_type": "code",
      "source": [
        "#STEP1 Getting Inputs\n",
        "plain_text=input(\"Enter the message: \")\n",
        "key=input(\"Enter the one time pad: \")\n",
        "cipher_text=''"
      ],
      "metadata": {
        "colab": {
          "base_uri": "https://localhost:8080/"
        },
        "id": "fTjyI5Yv_rLy",
        "outputId": "60e56de0-cb26-440b-ffda-197b07145ad5"
      },
      "execution_count": null,
      "outputs": [
        {
          "name": "stdout",
          "output_type": "stream",
          "text": [
            "Enter the message: Good Morning\n",
            "Enter the one time pad: Quantam King\n"
          ]
        }
      ]
    },
    {
      "cell_type": "code",
      "source": [
        "#STEP2 Data clean : Replacing space and converting to lower\n",
        "plain_text=plain_text.replace(\" \",\"\")\n",
        "key=key.replace(\" \",\"\")\n",
        "plain_text=plain_text.lower()\n",
        "key=key.lower()"
      ],
      "metadata": {
        "id": "7nfvaZfv_q9c"
      },
      "execution_count": null,
      "outputs": []
    },
    {
      "cell_type": "code",
      "source": [
        "#CHECKING IF LENGTHs ARE EQUAL\n",
        "if(len(plain_text)!=len(key)):\n",
        "        print(\"Lengths are different\")\n",
        "else:\n",
        "  print(\"Lenght Equal\")"
      ],
      "metadata": {
        "colab": {
          "base_uri": "https://localhost:8080/"
        },
        "id": "uM7AQYVzAOSp",
        "outputId": "2afbffef-1d41-4857-accb-ff5d354577b4"
      },
      "execution_count": null,
      "outputs": [
        {
          "output_type": "stream",
          "name": "stdout",
          "text": [
            "Lenght Equal\n"
          ]
        }
      ]
    },
    {
      "cell_type": "code",
      "source": [
        "#LOGIC \n",
        "cipher_text=\"\"\n",
        "        \n",
        "# iterating through the length\n",
        "for i in range(len(plain_text)):\n",
        "    k1=ord(plain_text[i])-97 #GETTING INPUT ASCCI VALUE for lower\n",
        "    k2=ord(key[i])-97        #GETTING KEY ASCCI VALUE for lower\n",
        "    s=chr((k1+k2)%26+97)     # (k1 + k2)%26 for lower\n",
        "    cipher_text+=s           # Concatenate each otput\n",
        "print(\"Enrypted message is: \",cipher_text)"
      ],
      "metadata": {
        "colab": {
          "base_uri": "https://localhost:8080/"
        },
        "id": "dmqAWh7rAk0k",
        "outputId": "c122d70f-fe74-4147-9237-39728b8868d9"
      },
      "execution_count": null,
      "outputs": [
        {
          "output_type": "stream",
          "name": "stdout",
          "text": [
            "Enrypted message is:  wioqfodxqam\n"
          ]
        }
      ]
    },
    {
      "cell_type": "markdown",
      "source": [
        "# Final encrypted algo"
      ],
      "metadata": {
        "id": "gm0vTv2LvUgk"
      }
    },
    {
      "cell_type": "code",
      "source": [
        "# function to apply algo of vernam cipher\n",
        "def vernam(plain_text,key):\n",
        "\n",
        "    # convert into lower cases and remove spaces\n",
        "    \n",
        "    plain_text=plain_text.replace(\" \",\"\")\n",
        "    key=key.replace(\" \",\"\")\n",
        "    plain_text=plain_text.lower()\n",
        "    key=key.lower()\n",
        "    \n",
        "    # conditional statements\n",
        "    if(len(plain_text)!=len(key)):\n",
        "        print(\"Lengths are different\")\n",
        "        \n",
        "    else:\n",
        "        cipher_text=\"\"\n",
        "        # iterating through the length\n",
        "        for i in range(len(plain_text)):\n",
        "            k1=ord(plain_text[i])-97\n",
        "            k2=ord(key[i])-97\n",
        "            s=chr(((k1+k2))%26+97)\n",
        "            cipher_text+=s\n",
        "        print(\"Enrypted message is: \",cipher_text)\n",
        "\n",
        "\n",
        "plain_text=input(\"Enter the message: \")\n",
        "key=input(\"Enter the one time pad: \")\n",
        "vernam(plain_text,key)"
      ],
      "metadata": {
        "colab": {
          "base_uri": "https://localhost:8080/"
        },
        "id": "iOgRm93n-b-W",
        "outputId": "b279ec48-77ed-490b-b551-af1ee0ffea41"
      },
      "execution_count": null,
      "outputs": [
        {
          "output_type": "stream",
          "name": "stdout",
          "text": [
            "Enter the message: ISP\n",
            "Enter the one time pad: LCM\n",
            "Enrypted message is:  tub\n"
          ]
        }
      ]
    },
    {
      "cell_type": "markdown",
      "source": [
        "# Final De-crypted algo"
      ],
      "metadata": {
        "id": "gHh0r59oI-Rr"
      }
    },
    {
      "cell_type": "code",
      "source": [
        "# function to apply algo of vernam cipher\n",
        "def vernam(plain_text,key):\n",
        "\n",
        "    # convert into lower cases and remove spaces\n",
        "    \n",
        "    plain_text=plain_text.replace(\" \",\"\")\n",
        "    key=key.replace(\" \",\"\")\n",
        "    plain_text=plain_text.lower()\n",
        "    key=key.lower()\n",
        "    \n",
        "    # conditional statements\n",
        "    if(len(plain_text)!=len(key)):\n",
        "        print(\"Lengths are different\")\n",
        "        \n",
        "    else:\n",
        "        cipher_text=\"\"\n",
        "        # iterating through the length\n",
        "        for i in range(len(plain_text)):\n",
        "            k1=ord(plain_text[i])-97\n",
        "            k2=ord(key[i])-97\n",
        "            s=chr(((k1-k2))%26+97)\n",
        "            cipher_text+=s\n",
        "        print(\"Enrypted message is: \",cipher_text)\n",
        "\n",
        "\n",
        "plain_text=input(\"Enter the message: \")\n",
        "key=input(\"Enter the one time pad: \")\n",
        "vernam(plain_text,key)"
      ],
      "metadata": {
        "id": "2mwEuxBRxNi7",
        "colab": {
          "base_uri": "https://localhost:8080/"
        },
        "outputId": "38f7cad4-a8d7-4a08-dde0-fb3d2b76ebd5"
      },
      "execution_count": null,
      "outputs": [
        {
          "output_type": "stream",
          "name": "stdout",
          "text": [
            "Enter the message: wioqfodxqam\n",
            "Enter the one time pad: Quantam King\n",
            "Enrypted message is:  goodmorning\n"
          ]
        }
      ]
    },
    {
      "cell_type": "code",
      "source": [],
      "metadata": {
        "id": "6WEEqORi_oPj"
      },
      "execution_count": null,
      "outputs": []
    }
  ]
}
{
  "nbformat": 4,
  "nbformat_minor": 0,
  "metadata": {
    "colab": {
      "provenance": [],
      "collapsed_sections": [],
      "include_colab_link": true
    },
    "kernelspec": {
      "name": "python3",
      "display_name": "Python 3"
    },
    "language_info": {
      "name": "python"
    }
  },
  "cells": [
    {
      "cell_type": "markdown",
      "metadata": {
        "id": "view-in-github",
        "colab_type": "text"
      },
      "source": [
        "<a href=\"https://colab.research.google.com/github/GhostsDragons/S048_Internet-Security-and-Privacy/blob/main/ISP_Vegenere_Cipher_S048.ipynb\" target=\"_parent\"><img src=\"https://colab.research.google.com/assets/colab-badge.svg\" alt=\"Open In Colab\"/></a>"
      ]
    },
    {
      "cell_type": "markdown",
      "source": [
        "#Vegenere Cipher"
      ],
      "metadata": {
        "id": "8F1cuoFgpmAp"
      }
    },
    {
      "cell_type": "code",
      "execution_count": 1,
      "metadata": {
        "id": "NHOgcrW_mTcD"
      },
      "outputs": [],
      "source": [
        "str1 = \"MUKESH PATEL SCHOOL OF TECHNOLOGY MANAGEMENT AND ENGINEERING\"\n",
        "keyword = \"NMIMS\""
      ]
    },
    {
      "cell_type": "code",
      "source": [
        "def genkey(str1, key):\n",
        "  key = list(key)\n",
        "  if len(str1) == len(key):\n",
        "    return(key)\n",
        "  else:\n",
        "    for i in range(len(str1)- len(key)):\n",
        "      key.append(key[i%len(key)])\n",
        "  return(\"\". join(key))"
      ],
      "metadata": {
        "id": "uPZ0y3wEqrbJ"
      },
      "execution_count": 2,
      "outputs": []
    },
    {
      "cell_type": "code",
      "source": [
        "key = genkey(str1, keyword)\n",
        "print(key)"
      ],
      "metadata": {
        "colab": {
          "base_uri": "https://localhost:8080/"
        },
        "id": "NqM9SwEPuOmH",
        "outputId": "464ccfa9-1256-4fbc-ba64-5dc3f8c939c7"
      },
      "execution_count": 3,
      "outputs": [
        {
          "output_type": "stream",
          "name": "stdout",
          "text": [
            "NMIMSNMIMSNMIMSNMIMSNMIMSNMIMSNMIMSNMIMSNMIMSNMIMSNMIMSNMIMS\n"
          ]
        }
      ]
    },
    {
      "cell_type": "code",
      "source": [
        "def encrypt_cipher(str1, key1):\n",
        "  cipher_text = []\n",
        "  for i in range(len(str1)):\n",
        "    x = ((ord(str1[i])+ord(key[i]))%26) + ord('A')\n",
        "    cipher_text.append(chr(x))\n",
        "  return(\"\".join(cipher_text))"
      ],
      "metadata": {
        "id": "xq5tj45Cp5uX"
      },
      "execution_count": 4,
      "outputs": []
    },
    {
      "cell_type": "code",
      "source": [
        "print(\"OG MESSAGE : \", str1)\n",
        "print(\"KEYWORD : \", keyword)\n",
        "cipher_text = encrypt_cipher(str1, key)\n",
        "print(\"CIPHERTEXT : \", cipher_text)"
      ],
      "metadata": {
        "colab": {
          "base_uri": "https://localhost:8080/"
        },
        "id": "vXWY31xAzKy_",
        "outputId": "bb5c362b-94cf-4239-f589-1ba038ebb96b"
      },
      "execution_count": 5,
      "outputs": [
        {
          "output_type": "stream",
          "name": "stdout",
          "text": [
            "OG MESSAGE :  MUKESH PATEL SCHOOL OF TECHNOLOGY MANAGEMENT AND ENGINEERING\n",
            "KEYWORD :  NMIMS\n",
            "CIPHERTEXT :  ZGSQKUFXMLRXBEUUAWXLBRBFWPTVADBSGFENZISWZQVFLNZLFWASQZWRDQZY\n"
          ]
        }
      ]
    },
    {
      "cell_type": "code",
      "source": [
        "def decrypt_cipher(cipher_text, keyword):\n",
        "  orig_text = []\n",
        "  for i in range(len(cipher_text)):\n",
        "    x = ((ord(cipher_text[i]) - ord(keyword[i]))%26) + ord('A')\n",
        "    orig_text.append(chr(x))\n",
        "  return(\"\".join(orig_text))"
      ],
      "metadata": {
        "id": "juDsuxv7zQly"
      },
      "execution_count": 6,
      "outputs": []
    },
    {
      "cell_type": "code",
      "source": [
        "og = decrypt_cipher(cipher_text,key)"
      ],
      "metadata": {
        "id": "aBflcAMJ2Aob"
      },
      "execution_count": 7,
      "outputs": []
    },
    {
      "cell_type": "code",
      "source": [
        "og"
      ],
      "metadata": {
        "colab": {
          "base_uri": "https://localhost:8080/",
          "height": 36
        },
        "id": "sPu5hjbq26zr",
        "outputId": "21931855-c670-4248-d25e-22379135d70e"
      },
      "execution_count": 8,
      "outputs": [
        {
          "output_type": "execute_result",
          "data": {
            "text/plain": [
              "'MUKESHTPATELTSCHOOLTOFTTECHNOLOGYTMANAGEMENTTANDTENGINEERING'"
            ],
            "application/vnd.google.colaboratory.intrinsic+json": {
              "type": "string"
            }
          },
          "metadata": {},
          "execution_count": 8
        }
      ]
    }
  ]
}